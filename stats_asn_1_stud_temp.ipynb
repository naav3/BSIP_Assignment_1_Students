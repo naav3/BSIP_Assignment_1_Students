{
 "cells": [
  {
   "cell_type": "code",
   "execution_count": 3,
   "metadata": {},
   "outputs": [],
   "source": [
    "import thinkplot\n",
    "import thinkstats2\n",
    "import pandas as pd\n",
    "import numpy as np\n",
    "import scipy\n",
    "import seaborn as sns\n",
    "from matplotlib import pyplot as plt"
   ]
  },
  {
   "cell_type": "markdown",
   "metadata": {},
   "source": [
    "# Assignment #1 - Basic Data Exploration in Python\n",
    "\n",
    "## Assignment Overview\n",
    "\n",
    "In this assignment you'll load some data into a python notebook, and use some basic functions to do some basic analysis. Each section asks you to either calculate some answers or explore some information found in the data. When generating your answers, try to think about a few factors that can make your code better:\n",
    "<ul>\n",
    "<li> Present the answers clearly. Use the markdown cells, code comments, and formatting to help make your answers readable. One of the features of notebooks is that they allow us to combine code and commentary, and we need to ensure both are readable. Refer to the guide in the guides folder of the exercises workbook for an explaination and examples of different formatting. \n",
    "<li> Make your code clear. It is easy to make sense of small pieces of code, for short periods of time, so if your code makes little sense here, it won't really hurt your ability to find the answers. If you need to come back to it later, or others need to edit it, having code that doesn't make sense is a big issue. Use things like clearly named variables, comments, and spacing to make things readable. Even in this course, if you are looking back to something from 2 months ago for the project, it is far easier to understand code that is cleaned up a little. \n",
    "<li> Structure the code well. If there is some kind of repetitive task, it should likely be moved into a function. If there is something that happens several times, it should be in a loop. Having well structured code makes it easy to reuse stuff later, understand how things work, debug errors, and share code with others. This is something to keep in the back of your minds, right now you may not have much experience to lean on to judge how things should be, as you read, adjust, and write code it will become more clear. \n",
    "</ul>\n",
    "\n",
    "## Peer Evaluation\n",
    "\n",
    "This assignemnt will have a peer evaluation for the grade - you'll each read some other notebooks and evaluate their answers. The reason for this is not (entirely) my personal laziness, we are hoping to accomplish a couple of things:\n",
    "<ul>\n",
    "<li> Quick experience reading notebooks. One of the important skills we need to have is the ability to read examples that we find and adapting it to our scenario. This is practice with data you're now comfortable with.\n",
    "<li> Critically evaluating what makes sense in a data notebook. You know how you attempted to explain your look at the data, how did other people do it? What was better? What was worse?\n",
    "<li> Design is subjective. This will give you a set of opinions that are not mine. You will end up with plenty of feedback of what I think, feadback of others early-on should hopefully help you make things appealing to all and not tailored to me. \n",
    "</ul>\n",
    "Doing this right up front will hopefully help kickstart some of that expericence. \n",
    "\n",
    "### Grading\n",
    "\n",
    "The detailed grading is defined in the marking guide in the Moodle workshop. Note that there's points both for getting a correct answer and for presenting it in a way that makes sense. \n",
    "\n",
    "## Structure\n",
    "\n",
    "Each section contains a set of questions/prompts and a rough framework for your responses. You can change the structure around, just make sure it is readable. What I have there is just a loose guide to help get you started, you're not bound to it. "
   ]
  },
  {
   "cell_type": "markdown",
   "metadata": {},
   "source": [
    "## Load Data\n",
    "\n",
    "Load the labor data into a dataframe. You probably don't want to change this section. "
   ]
  },
  {
   "cell_type": "code",
   "execution_count": 4,
   "metadata": {},
   "outputs": [
    {
     "data": {
      "text/html": [
       "<div>\n",
       "<style scoped>\n",
       "    .dataframe tbody tr th:only-of-type {\n",
       "        vertical-align: middle;\n",
       "    }\n",
       "\n",
       "    .dataframe tbody tr th {\n",
       "        vertical-align: top;\n",
       "    }\n",
       "\n",
       "    .dataframe thead th {\n",
       "        text-align: right;\n",
       "    }\n",
       "</style>\n",
       "<table border=\"1\" class=\"dataframe\">\n",
       "  <thead>\n",
       "    <tr style=\"text-align: right;\">\n",
       "      <th></th>\n",
       "      <th>Age</th>\n",
       "      <th>Eduacation</th>\n",
       "      <th>Race</th>\n",
       "      <th>Hisp</th>\n",
       "      <th>MaritalStatus</th>\n",
       "      <th>Nodeg</th>\n",
       "      <th>Earnings_1974</th>\n",
       "      <th>Earnings_1975</th>\n",
       "      <th>Earnings_1978</th>\n",
       "    </tr>\n",
       "  </thead>\n",
       "  <tbody>\n",
       "    <tr>\n",
       "      <th>0</th>\n",
       "      <td>45</td>\n",
       "      <td>LessThanHighSchool</td>\n",
       "      <td>NotBlack</td>\n",
       "      <td>NotHispanic</td>\n",
       "      <td>Married</td>\n",
       "      <td>1</td>\n",
       "      <td>21516.670</td>\n",
       "      <td>25243.550</td>\n",
       "      <td>25564.670</td>\n",
       "    </tr>\n",
       "    <tr>\n",
       "      <th>1</th>\n",
       "      <td>21</td>\n",
       "      <td>Intermediate</td>\n",
       "      <td>NotBlack</td>\n",
       "      <td>NotHispanic</td>\n",
       "      <td>NotMarried</td>\n",
       "      <td>0</td>\n",
       "      <td>3175.971</td>\n",
       "      <td>5852.565</td>\n",
       "      <td>13496.080</td>\n",
       "    </tr>\n",
       "    <tr>\n",
       "      <th>2</th>\n",
       "      <td>38</td>\n",
       "      <td>HighSchool</td>\n",
       "      <td>NotBlack</td>\n",
       "      <td>NotHispanic</td>\n",
       "      <td>Married</td>\n",
       "      <td>0</td>\n",
       "      <td>23039.020</td>\n",
       "      <td>25130.760</td>\n",
       "      <td>25564.670</td>\n",
       "    </tr>\n",
       "    <tr>\n",
       "      <th>3</th>\n",
       "      <td>48</td>\n",
       "      <td>LessThanHighSchool</td>\n",
       "      <td>NotBlack</td>\n",
       "      <td>NotHispanic</td>\n",
       "      <td>Married</td>\n",
       "      <td>1</td>\n",
       "      <td>24994.370</td>\n",
       "      <td>25243.550</td>\n",
       "      <td>25564.670</td>\n",
       "    </tr>\n",
       "    <tr>\n",
       "      <th>4</th>\n",
       "      <td>18</td>\n",
       "      <td>LessThanHighSchool</td>\n",
       "      <td>NotBlack</td>\n",
       "      <td>NotHispanic</td>\n",
       "      <td>Married</td>\n",
       "      <td>1</td>\n",
       "      <td>1669.295</td>\n",
       "      <td>10727.610</td>\n",
       "      <td>9860.869</td>\n",
       "    </tr>\n",
       "  </tbody>\n",
       "</table>\n",
       "</div>"
      ],
      "text/plain": [
       "   Age          Eduacation      Race         Hisp MaritalStatus  Nodeg  \\\n",
       "0   45  LessThanHighSchool  NotBlack  NotHispanic       Married      1   \n",
       "1   21        Intermediate  NotBlack  NotHispanic    NotMarried      0   \n",
       "2   38          HighSchool  NotBlack  NotHispanic       Married      0   \n",
       "3   48  LessThanHighSchool  NotBlack  NotHispanic       Married      1   \n",
       "4   18  LessThanHighSchool  NotBlack  NotHispanic       Married      1   \n",
       "\n",
       "   Earnings_1974  Earnings_1975  Earnings_1978  \n",
       "0      21516.670      25243.550      25564.670  \n",
       "1       3175.971       5852.565      13496.080  \n",
       "2      23039.020      25130.760      25564.670  \n",
       "3      24994.370      25243.550      25564.670  \n",
       "4       1669.295      10727.610       9860.869  "
      ]
     },
     "execution_count": 4,
     "metadata": {},
     "output_type": "execute_result"
    }
   ],
   "source": [
    "#Load/preview data\n",
    "df = pd.read_csv(\"LabourTrainingEvaluationData.csv\")\n",
    "df.head()"
   ]
  },
  {
   "cell_type": "code",
   "execution_count": 5,
   "metadata": {},
   "outputs": [
    {
     "data": {
      "text/html": [
       "<div>\n",
       "<style scoped>\n",
       "    .dataframe tbody tr th:only-of-type {\n",
       "        vertical-align: middle;\n",
       "    }\n",
       "\n",
       "    .dataframe tbody tr th {\n",
       "        vertical-align: top;\n",
       "    }\n",
       "\n",
       "    .dataframe thead th {\n",
       "        text-align: right;\n",
       "    }\n",
       "</style>\n",
       "<table border=\"1\" class=\"dataframe\">\n",
       "  <thead>\n",
       "    <tr style=\"text-align: right;\">\n",
       "      <th></th>\n",
       "      <th>Age</th>\n",
       "      <th>Nodeg</th>\n",
       "      <th>Earnings_1974</th>\n",
       "      <th>Earnings_1975</th>\n",
       "      <th>Earnings_1978</th>\n",
       "    </tr>\n",
       "  </thead>\n",
       "  <tbody>\n",
       "    <tr>\n",
       "      <th>count</th>\n",
       "      <td>15992.000000</td>\n",
       "      <td>15992.000000</td>\n",
       "      <td>15992.000000</td>\n",
       "      <td>15992.000000</td>\n",
       "      <td>15992.000000</td>\n",
       "    </tr>\n",
       "    <tr>\n",
       "      <th>mean</th>\n",
       "      <td>33.225238</td>\n",
       "      <td>0.295835</td>\n",
       "      <td>14016.800304</td>\n",
       "      <td>13650.803376</td>\n",
       "      <td>14846.659673</td>\n",
       "    </tr>\n",
       "    <tr>\n",
       "      <th>std</th>\n",
       "      <td>11.045216</td>\n",
       "      <td>0.456432</td>\n",
       "      <td>9569.795893</td>\n",
       "      <td>9270.403225</td>\n",
       "      <td>9647.391524</td>\n",
       "    </tr>\n",
       "    <tr>\n",
       "      <th>min</th>\n",
       "      <td>16.000000</td>\n",
       "      <td>0.000000</td>\n",
       "      <td>0.000000</td>\n",
       "      <td>0.000000</td>\n",
       "      <td>0.000000</td>\n",
       "    </tr>\n",
       "    <tr>\n",
       "      <th>25%</th>\n",
       "      <td>24.000000</td>\n",
       "      <td>0.000000</td>\n",
       "      <td>4403.452250</td>\n",
       "      <td>4398.823000</td>\n",
       "      <td>5669.298000</td>\n",
       "    </tr>\n",
       "    <tr>\n",
       "      <th>50%</th>\n",
       "      <td>31.000000</td>\n",
       "      <td>0.000000</td>\n",
       "      <td>15123.580000</td>\n",
       "      <td>14557.110000</td>\n",
       "      <td>16421.975000</td>\n",
       "    </tr>\n",
       "    <tr>\n",
       "      <th>75%</th>\n",
       "      <td>42.000000</td>\n",
       "      <td>1.000000</td>\n",
       "      <td>23584.180000</td>\n",
       "      <td>22923.737500</td>\n",
       "      <td>25564.670000</td>\n",
       "    </tr>\n",
       "    <tr>\n",
       "      <th>max</th>\n",
       "      <td>55.000000</td>\n",
       "      <td>1.000000</td>\n",
       "      <td>25862.320000</td>\n",
       "      <td>25243.550000</td>\n",
       "      <td>25564.670000</td>\n",
       "    </tr>\n",
       "  </tbody>\n",
       "</table>\n",
       "</div>"
      ],
      "text/plain": [
       "                Age         Nodeg  Earnings_1974  Earnings_1975  Earnings_1978\n",
       "count  15992.000000  15992.000000   15992.000000   15992.000000   15992.000000\n",
       "mean      33.225238      0.295835   14016.800304   13650.803376   14846.659673\n",
       "std       11.045216      0.456432    9569.795893    9270.403225    9647.391524\n",
       "min       16.000000      0.000000       0.000000       0.000000       0.000000\n",
       "25%       24.000000      0.000000    4403.452250    4398.823000    5669.298000\n",
       "50%       31.000000      0.000000   15123.580000   14557.110000   16421.975000\n",
       "75%       42.000000      1.000000   23584.180000   22923.737500   25564.670000\n",
       "max       55.000000      1.000000   25862.320000   25243.550000   25564.670000"
      ]
     },
     "execution_count": 5,
     "metadata": {},
     "output_type": "execute_result"
    }
   ],
   "source": [
    "df.describe()"
   ]
  },
  {
   "cell_type": "markdown",
   "metadata": {},
   "source": [
    "## Part 1 - Age\n",
    "\n",
    "<ol>\n",
    "<li> Make and plot a Hist and Pmf for age.\n",
    "<li> What fraction of the people in the data are 51? What fraction are older than 51?\n",
    "<li> What is the median age? \n",
    "<li> Does the distribution of the sample data seem to mirror the working age population?\n",
    "</ol>"
   ]
  },
  {
   "cell_type": "markdown",
   "metadata": {},
   "source": [
    "#### Make and plot a Hist and Pmf for age."
   ]
  },
  {
   "cell_type": "code",
   "execution_count": 6,
   "metadata": {},
   "outputs": [
    {
     "data": {
      "image/png": "[encoded data removed]",
      "text/plain": [
       "<Figure size 432x288 with 1 Axes>"
      ]
     },
     "metadata": {
      "needs_background": "light"
     },
     "output_type": "display_data"
    }
   ],
   "source": [
    "#histogram for Age\n",
    "hist = thinkstats2.Hist(round(df[\"Age\"],2),label = 'Age')\n",
    "hist\n",
    "thinkplot.Hist(hist)\n",
    "thinkplot.config(xlabel ='Age',ylabel= 'count')\n"
   ]
  },
  {
   "cell_type": "code",
   "execution_count": 7,
   "metadata": {},
   "outputs": [
    {
     "data": {
      "image/png": "[encoded data removed]",
      "text/plain": [
       "<Figure size 432x288 with 1 Axes>"
      ]
     },
     "metadata": {
      "needs_background": "light"
     },
     "output_type": "display_data"
    }
   ],
   "source": [
    "#Pmf for Age\n",
    "age = df[\"Age\"]\n",
    "agepmf = thinkstats2.Pmf(age)\n",
    "thinkplot.Pmf(agepmf)\n",
    "thinkplot.config(Xlabel = \"Age\",ylabel = \"Percentage\")\n"
   ]
  },
  {
   "cell_type": "markdown",
   "metadata": {},
   "source": [
    "#### What fraction of the people in the data are 51? What fraction are older than 51?"
   ]
  },
  {
   "cell_type": "code",
   "execution_count": 8,
   "metadata": {},
   "outputs": [
    {
     "name": "stdout",
     "output_type": "stream",
     "text": [
      "Fraction of people in data aged 51 are 0.02 .\n",
      "Fraction of people older than 51 years are 0.073 .\n"
     ]
    }
   ],
   "source": [
    "#people aged 51\n",
    "age51 = (df[\"Age\"] == 51).sum()\n",
    "#total no.of people in dataset\n",
    "total = df[\"Age\"].shape[0]\n",
    "print(\"Fraction of people in data aged 51 are\",round(age51 / total,3),\".\")\n",
    "#people aged greater than 51\n",
    "agemore51 = df[df.Age > 51].shape[0]\n",
    "print(\"Fraction of people older than 51 years are\",round(agemore51 / total,3),\".\")\n",
    "\n"
   ]
  },
  {
   "cell_type": "markdown",
   "metadata": {},
   "source": [
    "##### What is the median age?"
   ]
  },
  {
   "cell_type": "code",
   "execution_count": 9,
   "metadata": {},
   "outputs": [
    {
     "name": "stdout",
     "output_type": "stream",
     "text": [
      "Median age for data is 31.0\n"
     ]
    }
   ],
   "source": [
    "age = df[\"Age\"]\n",
    "print(\"Median age for data is\",age.median())"
   ]
  },
  {
   "cell_type": "markdown",
   "metadata": {},
   "source": [
    "##### Does the distribution of the sample data seem to mirror the working age population?"
   ]
  },
  {
   "cell_type": "markdown",
   "metadata": {},
   "source": [
    "Working age population is from 15 -65 years.\n",
    "As seen from Statistics Canada data,As on right side after 30, age group is increasing,people count are decreasing.\n",
    "Similar trend is observed from histogram plotted above for age group.\n",
    "So, distribution of sample data is mirroring working age population."
   ]
  },
  {
   "cell_type": "markdown",
   "metadata": {},
   "source": [
    "### Part 2 - Demographics\n",
    "\n",
    "<ul>\n",
    "<li>Consider some of the demographic features: \n",
    "    <ul>\n",
    "    <li>Education\n",
    "    <li>Race\n",
    "    <li>Hisp\n",
    "    <li>MaritalStatus\n",
    "    <li>Nodeg. \n",
    "    </ul>\n",
    "</ul>\n",
    "<ol>\n",
    "<li>This data came from the United States, does it appear to be a representative sample of the US population?\n",
    "<li>Demonstrate this in some way in your code. \n",
    "</ol>\n",
    "\n",
    "##### Exploring the data..."
   ]
  },
  {
   "cell_type": "code",
   "execution_count": 10,
   "metadata": {},
   "outputs": [
    {
     "name": "stdout",
     "output_type": "stream",
     "text": [
      "NotBlack    0.926463\n",
      "black       0.073537\n",
      "Name: Race, dtype: float64\n",
      "NotHispanic    0.927964\n",
      "hispanic       0.072036\n",
      "Name: Hisp, dtype: float64\n",
      "Fraction of black people aged 25 or more having graduate degree is 0.002751375687843922 .\n",
      "Fraction of hispanic people aged 25 or more having graduate degree is 0.002876438219109555 .\n"
     ]
    }
   ],
   "source": [
    "#black people\n",
    "black = df[\"Race\"].value_counts(\"black\")\n",
    "#hispanic people\n",
    "Hispanic = df[\"Hisp\"].value_counts(\"hispanic\")\n",
    "print(black)\n",
    "print(Hispanic)\n",
    "# a is variable for people who are black,age 25 0r more and are graduate\n",
    "a = (df.loc[(df[\"Age\"]>= 25) & (df[\"Race\"]==\"black\") & (df[\"Eduacation\"]==\"graduate\")])\n",
    "print(\"Fraction of black people aged 25 or more having graduate degree is\", len(a)/df.shape[0],\".\")\n",
    "# b is variable for people who are hispanic,age 25 or more and have a graduate degree\n",
    "b =  (df.loc[(df[\"Age\"]>= 25) & (df[\"Hisp\"]==\"hispanic\") & (df[\"Eduacation\"]==\"graduate\")])\n",
    "print(\"Fraction of hispanic people aged 25 or more having graduate degree is\", len(b)/df.shape[0],\".\")\n"
   ]
  },
  {
   "cell_type": "markdown",
   "metadata": {},
   "source": [
    "1)As of 2019, distribution of U.S.population is \n",
    "white - 60.1%(Non-Hispanic), Hispanic - 18.5%, Black- 12.2%,  Rest- Multiple Races,Asians and others.\n",
    "Our data shows black people as 7.35% and Hispanic as 7.2%.\n",
    "2)In 2019, 18.8% of Hispanic age 25 and older had bachelors degree & our data shows 0.28% hispanic people of that agegroup has graduate degree.\n",
    "3)26.1% of Black people have bachelors degree during same period & our data shows 0.27% black people of that agegroup has graduate degree.\n",
    "So,this dataset cannot be considered as representative sample of U.S. population.\n"
   ]
  },
  {
   "cell_type": "markdown",
   "metadata": {},
   "source": [
    "##### Demographic Conclusion\n"
   ]
  },
  {
   "cell_type": "markdown",
   "metadata": {},
   "source": [
    "### Part 3 - Earnings\n",
    "\n",
    "<ol>\n",
    "<li>Make and plot a graph or graph of your choosing of the 3 earnings values, in order to answer the below question. Identify how the graph gave you your answer.\n",
    "    <ul>\n",
    "    <li>What is one conclusion could you draw from visualizing of the earnings in the different year? Please express it in plain language/non-statistics terms/as though you were explaining to one of your friends what happened to earnings between 1974 and 1978?\n",
    "    </ul>\n",
    "<li>Which has the greatest effect size on 1978 earnings: Race, Hispanic, MaritalStatus, or Nodeg? \n",
    "    <ul>\n",
    "    <li>What could you investigate further in an attempt to explain this?\n",
    "    </ul>\n",
    "<li>Plot a histogram and PMF, and compute useful descriptive statistics (think: average...) for the 1978 earnings value. Use the \"Cohorts\" code from the quiz to break the data into cohorts, plotting each group (either on one chart, or separately, whichever makes the most sense for examining the data - state specifically why you chose 1 vs many charts.\n",
    "    <ul>\n",
    "    <li>What is the difference in median income between the groups?\n",
    "    <li>Theorize a reason for the difference between the groups that could be explained with more data. Briefly describe the data you'd need. This does not need to be something you have data for, or know how to solve right now - just one well founded hypothesis on what might explain the difference.\n",
    "    </ul>\n",
    "<li>Are there outliers in the 1978 earnings data? Demonstrate this in some way with your code. \n",
    "    <ul>\n",
    "    <li>What can you infer from the presence of outliers that may impact analysis of this data.\n",
    "    </ul>\n",
    "</ol>"
   ]
  },
  {
   "cell_type": "markdown",
   "metadata": {},
   "source": [
    "##### Plot Earnings Data"
   ]
  },
  {
   "cell_type": "code",
   "execution_count": 12,
   "metadata": {},
   "outputs": [
    {
     "data": {
      "text/plain": [
       "Text(0.5, 1.0, '78')"
      ]
     },
     "execution_count": 12,
     "metadata": {},
     "output_type": "execute_result"
    },
    {
     "data": {
      "image/png": "[encoded data removed]",
      "text/plain": [
       "<Figure size 648x720 with 1 Axes>"
      ]
     },
     "metadata": {
      "needs_background": "light"
     },
     "output_type": "display_data"
    },
    {
     "data": {
      "image/png": "[encoded data removed]",
      "text/plain": [
       "<Figure size 648x864 with 3 Axes>"
      ]
     },
     "metadata": {
      "needs_background": "light"
     },
     "output_type": "display_data"
    }
   ],
   "source": [
    "from turtle import color\n",
    "\n",
    "\n",
    "earning74 = df[\"Earnings_1974\"]\n",
    "earning75 = df[\"Earnings_1975\"]\n",
    "earning78 = df[\"Earnings_1978\"]\n",
    "earning74Hist = thinkstats2.Hist(round(earning74),3)\n",
    "earning75Hist = thinkstats2.Hist(round(earning75),3)\n",
    "earning78Hist = thinkstats2.Hist(round(earning78),3)\n",
    "plt.figure(figsize= (9,10))\n",
    "plt.hist(earning74, bins= 30, label=\"74\", alpha=1, align=\"left\", color=\"lime\")\n",
    "plt.hist(earning75, bins=30, label= \"75\", alpha=0.5, align=\"mid\", color=\"red\")\n",
    "plt.hist(earning78, bins=30, label=\"78\",alpha=0.6, align=\"right\", color=\"tan\")\n",
    "\n",
    "fig = plt.figure(figsize=(9,12))\n",
    "\n",
    "ax1= fig.add_subplot(2, 2, 1)\n",
    "ax2= fig.add_subplot(2, 2, 2)\n",
    "ax3= fig.add_subplot(2, 2, 3)\n",
    "n, bins, patches = ax1.hist(earning74Hist, bins=15, edgecolor='black')\n",
    "ax1.set_title('74')\n",
    "n, bins, patches = ax2.hist(earning75Hist, bins=15, edgecolor='red')\n",
    "ax2.set_title('75')\n",
    "n, bins, patches = ax3.hist(earning78Hist, bins=15, edgecolor='green')\n",
    "ax3.set_title('78')\n",
    "\n"
   ]
  },
  {
   "cell_type": "markdown",
   "metadata": {},
   "source": [
    " As a conclusion, there seems to be a large jump in the number of people earning near the top end, around $25k. Otherwise the distributions are pretty similar. \n",
    "In 1974 and 75, there were slightly more no.of people earning upto $2500 than same in 78.But in 78,as seen from overlapping histograms there were large no of people earning more than 25,000.for middle income range around 2500 to approximately around 25,000 there were almost equal no .of people in between 1974-1978."
   ]
  },
  {
   "cell_type": "code",
   "execution_count": 13,
   "metadata": {},
   "outputs": [],
   "source": [
    "def CohenEffectSize(group1, group2):\n",
    "    \"\"\"Computes Cohen's effect size for two groups.\n",
    "    \n",
    "    group1: Series or DataFrame\n",
    "    group2: Series or DataFrame\n",
    "    \n",
    "    returns: float if the arguments are Series;\n",
    "             Series if the arguments are DataFrames\n",
    "    \"\"\"\n",
    "    diff = group1.mean() - group2.mean()\n",
    "\n",
    "    var1 = group1.var()\n",
    "    var2 = group2.var()\n",
    "    n1, n2 = len(group1), len(group2)\n",
    "\n",
    "    pooled_var = (n1 * var1 + n2 * var2) / (n1 + n2)\n",
    "    d = diff / np.sqrt(pooled_var)\n",
    "    return d"
   ]
  },
  {
   "cell_type": "code",
   "execution_count": 14,
   "metadata": {},
   "outputs": [
    {
     "name": "stdout",
     "output_type": "stream",
     "text": [
      "Cohen Effect size for race on 78 earnings is 0.31883255859070525 .\n",
      "Cohen effect size for hispanic on 78 earnings is 0.16210284395555566 .\n",
      "cohen effect for marital status is 0.5737396692403472 .\n",
      "cohen effect for nodeg is 0.3367928897615812 .\n",
      "Marital Status has greatest Effect size on 78 earnings.\n"
     ]
    }
   ],
   "source": [
    "#effect size for Race\n",
    "black= df[df[\"Race\"] == \"black\"]\n",
    "notblack = df[df[\"Race\"] == \"NotBlack\"]\n",
    "Coheneffectsizerace = CohenEffectSize(notblack[\"Earnings_1978\"], black[\"Earnings_1978\"])\n",
    "print(\"Cohen Effect size for race on 78 earnings is\", Coheneffectsizerace,\".\")\n",
    "#effect size for Hispanic\n",
    "hispanic = df[df[\"Hisp\"] == \"hispanic\"]\n",
    "nothispanic = df[df[\"Hisp\"] == \"NotHispanic\"]\n",
    "coheneffecthisp = CohenEffectSize(nothispanic[\"Earnings_1978\"],hispanic[\"Earnings_1978\"])\n",
    "print(\"Cohen effect size for hispanic on 78 earnings is\",coheneffecthisp,\".\")\n",
    "#effect size for Marital Status\n",
    "married = df[df[\"MaritalStatus\"] == \"Married\"]\n",
    "notmarried = df[df[\"MaritalStatus\"] == \"NotMarried\"]\n",
    "coheneffectmarital = CohenEffectSize(married[\"Earnings_1978\"],notmarried[\"Earnings_1978\"])\n",
    "print(\"cohen effect for marital status is\",coheneffectmarital,\".\")\n",
    "#effect size for Nodeg\n",
    "nodegtrue = df[df[\"Nodeg\"] == 1]\n",
    "nodegfalse = df[df[\"Nodeg\"] == 0]\n",
    "coheneffectnodeg = CohenEffectSize(nodegfalse[\"Earnings_1978\"],nodegtrue[\"Earnings_1978\"])\n",
    "print(\"cohen effect for nodeg is\",coheneffectnodeg,\".\")\n",
    "Maximum = max(Coheneffectsizerace,coheneffecthisp,coheneffectmarital,coheneffectnodeg)\n",
    "print(\"Marital Status has greatest Effect size on 78 earnings.\")"
   ]
  },
  {
   "cell_type": "code",
   "execution_count": 15,
   "metadata": {},
   "outputs": [
    {
     "data": {
      "text/plain": [
       "<AxesSubplot:ylabel='Count'>"
      ]
     },
     "execution_count": 15,
     "metadata": {},
     "output_type": "execute_result"
    },
    {
     "data": {
      "image/png": "[encoded data removed]",
      "text/plain": [
       "<Figure size 432x288 with 1 Axes>"
      ]
     },
     "metadata": {
      "needs_background": "light"
     },
     "output_type": "display_data"
    }
   ],
   "source": [
    "from cProfile import label\n",
    "\n",
    "\n",
    "married = df[df[\"MaritalStatus\"] == \"Married\"]\n",
    "notmarried = df[df[\"MaritalStatus\"] == \"NotMarried\"]\n",
    "marriedhist = thinkstats2.Hist(np.floor(married[\"Earnings_1978\"]))\n",
    "notmarriedhist = thinkstats2.Hist(np.floor(notmarried[\"Earnings_1978\"]))\n",
    "sns.histplot(marriedhist, color='red',alpha=0.6, label='married')\n",
    "sns.histplot(notmarriedhist, color='lime', alpha=0.5, label='notmarried')"
   ]
  },
  {
   "cell_type": "markdown",
   "metadata": {},
   "source": [
    "We can see that for income range around $12,000, there is no difference betwern two groups.\n",
    "from 2000-10,000 income,Notmarried people are slightly high in count than other group.\n",
    "But above this range,there are high no.of married people earning between approximately 12,000 to $26,000.\n",
    "Unmarried people count decreases in this range of earnings."
   ]
  },
  {
   "cell_type": "markdown",
   "metadata": {},
   "source": [
    "##### What to Investigate Further\n"
   ]
  },
  {
   "cell_type": "markdown",
   "metadata": {},
   "source": [
    "##### Histogram and PMF"
   ]
  },
  {
   "cell_type": "code",
   "execution_count": 16,
   "metadata": {},
   "outputs": [
    {
     "name": "stdout",
     "output_type": "stream",
     "text": [
      "Basic Stats for earnings 78 is count    15992.000000\n",
      "mean     14846.659673\n",
      "std       9647.391524\n",
      "min          0.000000\n",
      "25%       5669.298000\n",
      "50%      16421.975000\n",
      "75%      25564.670000\n",
      "max      25564.670000\n",
      "Name: Earnings_1978, dtype: float64\n"
     ]
    }
   ],
   "source": [
    "print(\"Basic Stats for earnings 78 is\", df[\"Earnings_1978\"].describe())\n"
   ]
  },
  {
   "cell_type": "code",
   "execution_count": 17,
   "metadata": {},
   "outputs": [
    {
     "data": {
      "image/png": "[encoded data removed]",
      "text/plain": [
       "<Figure size 432x288 with 1 Axes>"
      ]
     },
     "metadata": {
      "needs_background": "light"
     },
     "output_type": "display_data"
    }
   ],
   "source": [
    "#Create a hist, pmf, and stats for 1987 Earnings\n",
    "#Note: if you don't round or otherwise create bins, the thinkstats plots for this will be weird\n",
    "#That's because there are very few values that are the same, e.g. $14762.34, $15672.86, etc... \n",
    "#Every cent is a different value. \n",
    "#Seaborn plots will probably look better by default. \n",
    "hist = thinkstats2.Hist(df[\"Earnings_1978\"],label = 'earnings78')\n",
    "hist\n",
    "sns.histplot(hist, bins=30)\n",
    "thinkplot.axvline(np.mean(hist), color=\"yellow\")\n",
    "thinkplot.axvline(np.median(hist), color=\"red\")\n"
   ]
  },
  {
   "cell_type": "code",
   "execution_count": 18,
   "metadata": {},
   "outputs": [
    {
     "data": {
      "image/png": "[encoded data removed]",
      "text/plain": [
       "<Figure size 432x288 with 1 Axes>"
      ]
     },
     "metadata": {
      "needs_background": "light"
     },
     "output_type": "display_data"
    }
   ],
   "source": [
    "from thinkplot import Pmf\n",
    "#Pmf for earning78\n",
    "earning78 = df[\"Earnings_1978\"]\n",
    "earning78pmf = thinkstats2.Pmf(round(earning78),2)\n",
    "thinkplot.Pmf(earning78pmf)\n",
    "thinkplot.config(Xlabel = \"earnings78\",ylabel = \"Percentage\")\n"
   ]
  },
  {
   "cell_type": "markdown",
   "metadata": {},
   "source": [
    "##### Differences in Median Income, and Theory on Why\n"
   ]
  },
  {
   "cell_type": "markdown",
   "metadata": {},
   "source": [
    "##### Outliers"
   ]
  },
  {
   "cell_type": "code",
   "execution_count": 19,
   "metadata": {},
   "outputs": [
    {
     "name": "stderr",
     "output_type": "stream",
     "text": [
      "c:\\Users\\navne\\anaconda3\\lib\\site-packages\\seaborn\\distributions.py:2619: FutureWarning: `distplot` is a deprecated function and will be removed in a future version. Please adapt your code to use either `displot` (a figure-level function with similar flexibility) or `histplot` (an axes-level function for histograms).\n",
      "  warnings.warn(msg, FutureWarning)\n"
     ]
    },
    {
     "data": {
      "image/png": "[encoded data removed]",
      "text/plain": [
       "<Figure size 432x288 with 1 Axes>"
      ]
     },
     "metadata": {
      "needs_background": "light"
     },
     "output_type": "display_data"
    }
   ],
   "source": [
    "sns.distplot(df[\"Earnings_1978\"], kde_kws={\"label\":\"Value\"}, hist_kws={\"label\":\"Value\"})\n",
    "plt.show()"
   ]
  },
  {
   "cell_type": "markdown",
   "metadata": {},
   "source": [
    "As we can see from graph, there is peak around 26k ,which is outlier."
   ]
  },
  {
   "cell_type": "markdown",
   "metadata": {},
   "source": [
    "##### Outlier Conclusions\n"
   ]
  },
  {
   "cell_type": "code",
   "execution_count": 20,
   "metadata": {},
   "outputs": [
    {
     "data": {
      "text/plain": [
       "count    15992.000000\n",
       "mean     14846.659673\n",
       "std       9647.391524\n",
       "min          0.000000\n",
       "25%       5669.298000\n",
       "50%      16421.975000\n",
       "75%      25564.670000\n",
       "max      25564.670000\n",
       "Name: Earnings_1978, dtype: float64"
      ]
     },
     "execution_count": 20,
     "metadata": {},
     "output_type": "execute_result"
    }
   ],
   "source": [
    "#Outlier conclusion\n",
    "df[\"Earnings_1978\"].describe()"
   ]
  },
  {
   "cell_type": "markdown",
   "metadata": {},
   "source": [
    "There is huge difference between mean and max value which also suggests presence of extreme value.\n",
    "these outliers can change value of mean and standard deviation.\n"
   ]
  }
 ],
 "metadata": {
  "kernelspec": {
   "display_name": "Python 3.9.12 ('base')",
   "language": "python",
   "name": "python3"
  },
  "language_info": {
   "codemirror_mode": {
    "name": "ipython",
    "version": 3
   },
   "file_extension": ".py",
   "mimetype": "text/x-python",
   "name": "python",
   "nbconvert_exporter": "python",
   "pygments_lexer": "ipython3",
   "version": "3.9.12"
  },
  "orig_nbformat": 4,
  "vscode": {
   "interpreter": {
    "hash": "a111b36844a63776f55b7c11c775cf9cfa5bc77e90d0bb4e701e9fbdb569f031"
   }
  }
 },
 "nbformat": 4,
 "nbformat_minor": 2
}
